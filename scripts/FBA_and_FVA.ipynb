{
 "cells": [
  {
   "cell_type": "markdown",
   "metadata": {},
   "source": [
    "# Flux Balance and Flux Variability Analysis\n",
    "# Adopted from this tutorial in CobraPpy\n",
    "# source (https://cobrapy.readthedocs.io/en/latest/simulating.html#Running-FVA)"
   ]
  },
  {
   "cell_type": "code",
   "execution_count": null,
   "metadata": {},
   "outputs": [],
   "source": [
    "# reading the input files of the iMAT models\n",
    "input_path = '/path/to/iMAT_output'\n",
    "FBA_output = '/path/to/FBAoutput/folder/'\n",
    "FVA_output = '/path/to/FVAoutput/folder/'"
   ]
  },
  {
   "cell_type": "code",
   "execution_count": 2,
   "metadata": {},
   "outputs": [],
   "source": [
    "# note: this is running on a python virtual environment of version 3.9.6 set on terminal and activated via conda to be used as a kernel here \n",
    "# import the necessary packages \n",
    "import os\n",
    "import openpyxl\n",
    "from cobra.flux_analysis import flux_variability_analysis\n",
    "import pandas as pd\n",
    "from cobra.io import load_matlab_model"
   ]
  },
  {
   "cell_type": "markdown",
   "metadata": {},
   "source": [
    "# Flux Balance Analysis"
   ]
  },
  {
   "cell_type": "code",
   "execution_count": null,
   "metadata": {},
   "outputs": [],
   "source": [
    "# make a loop to read the models and run the FBA and then store the information in xlsx format\n",
    "for filename in os.listdir(input_path):\n",
    "    if filename.endswith('.mat'):\n",
    "        # Create the full file path\n",
    "        file_path = os.path.join(input_path, filename)\n",
    "        \n",
    "        # Load the MATLAB model\n",
    "        print(f\"Loading model: {filename}\")\n",
    "        model = load_matlab_model(file_path)\n",
    "\n",
    "        # Run FBA\n",
    "        solution = model.optimize()\n",
    "        fluxes = solution.fluxes\n",
    "\n",
    "        # collect the information of the reaction FBA results and the other info\n",
    "        flux_data = []\n",
    "        for rxn in model.reactions:\n",
    "            flux = fluxes[rxn.id]\n",
    "            metabolite = list(rxn.metabolites.keys())[0]\n",
    "            met_id = metabolite.id\n",
    "            met_name = metabolite.name\n",
    "\n",
    "            flux_data.append({\n",
    "                'Reaction ID': rxn.id,\n",
    "                'Reaction Name': rxn.name,\n",
    "                'Flux': flux,\n",
    "                'Subsystem': rxn.subsystem,\n",
    "                'Metabolite ID': met_id,\n",
    "                'Metabolite Name': met_name\n",
    "            })  \n",
    "        # Convert to DataFrames\n",
    "        fluxes_df = pd.DataFrame(flux_data)\n",
    "\n",
    "        # Save into one Excel file with three sheets: Objective, Uptake, Secretion\n",
    "        excel_filename = filename.replace('.mat', '_FBA.xlsx') \n",
    "        excel_file = os.path.join(FBA_output, excel_filename)\n",
    "        \n",
    "        with pd.ExcelWriter(excel_file, engine=\"openpyxl\") as writer:\n",
    "            # Write Objective Value\n",
    "            pd.DataFrame({'Objective Value': [solution.objective_value]}).to_excel(writer, sheet_name=\"Objective\", index=False)\n",
    "\n",
    "            # Write reaction fluxes\n",
    "            fluxes_df.to_excel(writer, sheet_name=\"fluxes\", index=False)"
   ]
  },
  {
   "cell_type": "markdown",
   "metadata": {},
   "source": [
    "# Flux Variability Analysis"
   ]
  },
  {
   "cell_type": "code",
   "execution_count": null,
   "metadata": {},
   "outputs": [],
   "source": [
    "# make a loop that read through each model in the file and then run FVA\n",
    "# consider that I will get the FVA results while optimitmizing the solution\n",
    "# reults will include the reaction ID, its associated subsystem and both mic and max fluxes\n",
    "for filename in os.listdir(input_path):\n",
    "    if filename.endswith('.mat'): \n",
    "        # Create the full file path\n",
    "        file_path = os.path.join(input_path, filename)\n",
    "        \n",
    "        # Load the MATLAB model\n",
    "        print(f\"Loading model: {filename}\")\n",
    "        model = load_matlab_model(file_path)\n",
    "\n",
    "        print(f\"Running FVA for the model: {filename}\")\n",
    "\n",
    "        # Identify lipid/energy metabolism reactions\n",
    "        lipid_energy_reactions = [\n",
    "            rxn.id for rxn in model.reactions\n",
    "            if rxn.subsystem and (\n",
    "                'lipid' in rxn.subsystem.lower() or \n",
    "                'fatty acid' in rxn.subsystem.lower() or\n",
    "                'cholesterol' in rxn.subsystem.lower() or\n",
    "                'bile acid' in rxn.subsystem.lower() or\n",
    "                'triglyceride' in rxn.subsystem.lower() or\n",
    "                'glycolysis' in rxn.subsystem.lower() or\n",
    "                'citric' in rxn.subsystem.lower() or\n",
    "                'oxidative phosphorylation' in rxn.subsystem.lower() or\n",
    "                'atp' in rxn.subsystem.lower() or\n",
    "                'pentose phosphate' in rxn.subsystem.lower() or\n",
    "                'pyruvate' in rxn.subsystem.lower()\n",
    "            )\n",
    "        ]\n",
    "\n",
    "        # Run FVA for selected reactions\n",
    "        FVA = flux_variability_analysis(model, reaction_list=lipid_energy_reactions, fraction_of_optimum=1.0)\n",
    "\n",
    "        # Extract reaction information for only the lipid/energy reactions\n",
    "        reaction_ids = []\n",
    "        subsystems = []\n",
    "        reaction_names = []\n",
    "        genes = []\n",
    "\n",
    "        for rxn_id in lipid_energy_reactions:\n",
    "            rxn = model.reactions.get_by_id(rxn_id)\n",
    "            reaction_ids.append(rxn.id)\n",
    "            subsystems.append(rxn.subsystem)\n",
    "            reaction_names.append(rxn.name)\n",
    "            genes.append(\";\".join([g.id for g in rxn.genes]))\n",
    "\n",
    "        # Create DataFrame\n",
    "        df = pd.DataFrame(FVA)\n",
    "        \n",
    "        # Add reaction metadata\n",
    "        df['reaction_id'] = reaction_ids\n",
    "        df['reaction_name'] = reaction_names\n",
    "        df['subsystem'] = subsystems\n",
    "        df['genes'] = genes\n",
    "        \n",
    "        # Reorder columns\n",
    "        df = df[['reaction_id', 'reaction_name', 'subsystem', 'genes', 'minimum', 'maximum']]\n",
    "\n",
    "        # Save as CSV\n",
    "        csv_filename = os.path.splitext(filename)[0] + '_FVA.csv'\n",
    "        csv_file_path = os.path.join(FVA_output, csv_filename)\n",
    "        df.to_csv(csv_file_path, index=False)\n",
    "\n",
    "        print(f\"Saved FVA results to {csv_file_path}\")"
   ]
  }
 ],
 "metadata": {
  "kernelspec": {
   "display_name": "python396_env",
   "language": "python",
   "name": "python3"
  },
  "language_info": {
   "codemirror_mode": {
    "name": "ipython",
    "version": 3
   },
   "file_extension": ".py",
   "mimetype": "text/x-python",
   "name": "python",
   "nbconvert_exporter": "python",
   "pygments_lexer": "ipython3",
   "version": "3.9.6"
  }
 },
 "nbformat": 4,
 "nbformat_minor": 2
}
