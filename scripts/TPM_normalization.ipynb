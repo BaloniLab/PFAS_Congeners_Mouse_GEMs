{
 "cells": [
  {
   "cell_type": "code",
   "execution_count": null,
   "id": "4bd1e519",
   "metadata": {},
   "outputs": [],
   "source": [
    "# adopted from https://github.com/lucynwosu/TPM-Transcripts-Per-Million-Normalization-Python/blob/main/TPM-Transcripts-Per-Million-Normalization.ipynb\n",
    "# import required files\n",
    "import pandas as pd\n",
    "import numpy as np\n",
    "import csv\n",
    "import os"
   ]
  },
  {
   "cell_type": "code",
   "execution_count": null,
   "id": "4ede35dd",
   "metadata": {},
   "outputs": [],
   "source": [
    "data = pd.read_csv('/path/to/raw_gene_count_file.csv’)\n",
    "data.head()\n",
    "Columns = list(data.columns)\n",
    "Columns.remove('Gene')\n",
    "Columns.remove('Length')\n",
    "Gene = list(female_data['Gene'])\n",
    "data_new = data.set_index('Gene')\n",
    "data_new.head()\n",
    "def read_counts2tpm(df):\n",
    "     result = df\n",
    "     sample_reads = result.loc[:, result.columns != 'Length'].copy()\n",
    "     gene_len = result.loc[:, ['Length']]\n",
    "     normalize_by_genelength = sample_reads.values / gene_len.values\n",
    "     scaling_factor = (np.sum(normalize_by_genelength, axis=0).reshape(1, -1)) / 1e6\n",
    "     normalize_sequencingdepth = normalize_by_genelength / scaling_factor\n",
    "     tpm = normalize_sequencingdepth\n",
    "     return tpm\n",
    " "
   ]
  },
  {
   "cell_type": "code",
   "execution_count": null,
   "id": "024d00b4",
   "metadata": {},
   "outputs": [],
   "source": [
    "TPM_MasterCount = pd.DataFrame(read_counts2tpm(data_new))\n",
    "TPM_MasterCount.columns = Columns\n",
    "TPM_MasterCount.insert(0, 'Gene', Gene, True)\n",
    "TPM_MasterCount.set_index('Gene')\n",
    "TPM_MasterCount.sum(axis = 0, skipna = True)\n",
    "path = os.path.expanduser('/path/to/TPM_normalized_data.csv')\n",
    "TPM_MasterCount.to_csv(path)"
   ]
  }
 ],
 "metadata": {
  "language_info": {
   "name": "python"
  }
 },
 "nbformat": 4,
 "nbformat_minor": 5
}
