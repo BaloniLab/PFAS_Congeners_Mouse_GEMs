{
 "cells": [
  {
   "cell_type": "markdown",
   "metadata": {},
   "source": [
    "# Performing Flux Sampling\n"
   ]
  },
  {
   "cell_type": "code",
   "execution_count": null,
   "metadata": {},
   "outputs": [],
   "source": [
    "# read for all iMAT output models through a loop\n",
    "# Define the folder path where your iMAT output MATLAB models are located\n",
    "input_path = 'path/to/iMAT/output/folder'\n",
    "\n",
    "# define the folder path where you wanna keep the output of flux sampling as csv files \n",
    "output_path = 'path/to/sapling/output/folder'"
   ]
  },
  {
   "cell_type": "code",
   "execution_count": 2,
   "metadata": {},
   "outputs": [],
   "source": [
    "# note: this is running on a python virtual environment of version 3.9.6 set on terminal and activated via conda to be used as a kernel here \n",
    "# import the necessary packages \n",
    "import os\n",
    "import pandas as pd\n",
    "import cobra\n",
    "from cobra.util.solver import solvers\n",
    "from time import time\n",
    "from cobra.io import load_matlab_model # for reading the matlab models\n",
    "from cobra.sampling import OptGPSampler, ACHRSampler # for Flux sampling "
   ]
  },
  {
   "cell_type": "code",
   "execution_count": null,
   "metadata": {},
   "outputs": [],
   "source": [
    "# running flux sampling \n",
    "# for a number of models at the same time\n",
    "\n",
    "for i, filename in enumerate(os.listdir(input_path)):\n",
    "    if filename.endswith('.mat'): \n",
    "        print(f\"Processing file {i + 1}/{len(os.listdir(input_path))}: {filename}\")\n",
    "        \n",
    "        file_path = os.path.join(input_path, filename)\n",
    "        \n",
    "        try:\n",
    "            # Load the iMAT model\n",
    "            print(f\"Loading model: {filename}\")\n",
    "            model = load_matlab_model(file_path)\n",
    "            model.solver = 'gurobi'\n",
    "            \n",
    "            # Run FBA to check solution feasibility\n",
    "            solution = model.optimize()\n",
    "            if solution.status != 'optimal':\n",
    "                print(f\"Model {filename} is not optimal. Skipping...\")\n",
    "                continue\n",
    "            \n",
    "            # Perform flux sampling\n",
    "            print(f\"Sampling the model: {filename}\")\n",
    "            optgp = OptGPSampler(model, processes=4)\n",
    "            s = optgp.sample(1000)\n",
    "            \n",
    "            # Convert sampling results to DataFrame\n",
    "            df = pd.DataFrame(s)\n",
    "            csv_filename = os.path.splitext(filename)[0] + '_sampling.csv'\n",
    "            csv_file_path = os.path.join(output_path, csv_filename)\n",
    "            df.to_csv(csv_file_path, index=False)\n",
    "            print(f\"Sampling results saved to: {csv_file_path}\")\n",
    "        \n",
    "        except Exception as e:\n",
    "            print(f\"Error processing {filename}: {e}\")\n",
    "            continue"
   ]
  },
  {
   "cell_type": "code",
   "execution_count": null,
   "metadata": {},
   "outputs": [],
   "source": [
    "# flux sampling for one model at a time\n",
    "# Set Gurobi as the solver\n",
    "cobra.Configuration().solver = \"gurobi\"\n",
    "\n",
    "# Confirm the solver\n",
    "print(\"Selected Solver:\", cobra.Configuration().solver)\n",
    "\n",
    "# Load your model\n",
    "model = cobra.io.load_matlab_model('path/to/model.mat')\n",
    "\n",
    "# Test optimization\n",
    "solution = model.optimize()\n",
    "print(\"Objective Value:\", solution.objective_value)"
   ]
  },
  {
   "cell_type": "code",
   "execution_count": null,
   "metadata": {},
   "outputs": [],
   "source": [
    "# run Flux Sampling\n",
    "optgp = OptGPSampler(model, processes=4)\n",
    "s = optgp.sample(1000)"
   ]
  },
  {
   "cell_type": "code",
   "execution_count": null,
   "metadata": {},
   "outputs": [],
   "source": [
    "df = pd.DataFrame(s)\n",
    "csv_filename = 'path/to/sampling/output/folder/name.csv'\n",
    "csv_file_path = os.path.join(output_path, csv_filename)\n",
    "df.to_csv(csv_file_path, index=False)"
   ]
  }
 ],
 "metadata": {
  "kernelspec": {
   "display_name": "python396_env",
   "language": "python",
   "name": "python3"
  },
  "language_info": {
   "codemirror_mode": {
    "name": "ipython",
    "version": 3
   },
   "file_extension": ".py",
   "mimetype": "text/x-python",
   "name": "python",
   "nbconvert_exporter": "python",
   "pygments_lexer": "ipython3",
   "version": "3.9.6"
  }
 },
 "nbformat": 4,
 "nbformat_minor": 2
}
